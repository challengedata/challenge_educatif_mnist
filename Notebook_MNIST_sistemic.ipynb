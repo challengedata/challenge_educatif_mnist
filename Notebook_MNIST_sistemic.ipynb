{
 "cells": [
  {
   "cell_type": "markdown",
   "metadata": {},
   "source": [
    "# Challenge Data MNIST : séance Sistemic"
   ]
  },
  {
   "cell_type": "markdown",
   "metadata": {},
   "source": [
    "## Notebook Python"
   ]
  },
  {
   "cell_type": "code",
   "execution_count": 1,
   "metadata": {
    "ExecuteTime": {
     "end_time": "2023-05-10T12:45:51.710588Z",
     "start_time": "2023-05-10T12:45:38.457901Z"
    },
    "scrolled": false
   },
   "outputs": [],
   "source": [
    "# Importation des données \n",
    "from utilitaires_chargement_ import *"
   ]
  },
  {
   "cell_type": "markdown",
   "metadata": {},
   "source": [
    "## Rappel sur les image numérique en Python"
   ]
  },
  {
   "cell_type": "markdown",
   "metadata": {},
   "source": [
    "Affichons une image `x` de taille $28 \\times 28$ que nous avons importée, grâce à la fonction `affichage`"
   ]
  },
  {
   "cell_type": "code",
   "execution_count": null,
   "metadata": {
    "ExecuteTime": {
     "end_time": "2023-05-10T11:43:00.465979Z",
     "start_time": "2023-05-10T11:43:00.347008Z"
    },
    "scrolled": false
   },
   "outputs": [],
   "source": [
    "# Dans cette cellule, afficher l'image x\n",
    "affichage(x)"
   ]
  },
  {
   "cell_type": "markdown",
   "metadata": {},
   "source": [
    "### Accéder à un pixel particulier"
   ]
  },
  {
   "cell_type": "markdown",
   "metadata": {},
   "source": [
    "* Pour accèder à la valeur d'un pixel $(i,j)$ de $x$ :  `x[i,j]`.\n",
    "* Afficher une valeur :  fonction `print()`"
   ]
  },
  {
   "cell_type": "code",
   "execution_count": null,
   "metadata": {
    "ExecuteTime": {
     "end_time": "2023-05-10T11:43:12.413145Z",
     "start_time": "2023-05-10T11:43:12.406935Z"
    },
    "scrolled": false
   },
   "outputs": [],
   "source": [
    "# Dans cette cellule, afficher le pixel (14, 14) de l'image x\n",
    "print(x[14, 14])"
   ]
  },
  {
   "cell_type": "markdown",
   "metadata": {},
   "source": [
    "<br><br><br>\n",
    "\n",
    "***\n",
    "***\n",
    "\n",
    "<br><br><br>"
   ]
  },
  {
   "cell_type": "markdown",
   "metadata": {},
   "source": [
    "# I.Challenge MNIST-2 : classer les chiffres 0 et 1"
   ]
  },
  {
   "cell_type": "markdown",
   "metadata": {},
   "source": [
    "## Images d'entrainement"
   ]
  },
  {
   "cell_type": "code",
   "execution_count": null,
   "metadata": {
    "ExecuteTime": {
     "end_time": "2023-05-10T12:36:01.263384Z",
     "start_time": "2023-05-10T12:36:01.063725Z"
    }
   },
   "outputs": [],
   "source": [
    "# Affiche les 10 premières images de x_train_2 :\n",
    "affichage_dix(x_train_2)"
   ]
  },
  {
   "cell_type": "markdown",
   "metadata": {},
   "source": [
    "## I.1 Caractéristique discriminante d’une image "
   ]
  },
  {
   "cell_type": "markdown",
   "metadata": {},
   "source": [
    "**Benchmark :** Proposition d'un caractéristiques utilisée comme référence "
   ]
  },
  {
   "cell_type": "code",
   "execution_count": 2,
   "metadata": {
    "ExecuteTime": {
     "end_time": "2023-05-10T12:46:36.775157Z",
     "start_time": "2023-05-10T12:46:36.766062Z"
    }
   },
   "outputs": [],
   "source": [
    "# Une fonction qui calcule et renvoi la caractéristique de l'image x\n",
    "\n",
    "def caracteristique(x):\n",
    "    # On calcule la somme de tous les pixels\n",
    "    somme = 0\n",
    "    for i in range(28):\n",
    "        for j in range(28):\n",
    "            somme = somme + x[i,j]\n",
    "    \n",
    "    # On divise par le nombre de pixels pour avoir une moyenne :\n",
    "    c = somme/(28*28)\n",
    "    return c"
   ]
  },
  {
   "cell_type": "markdown",
   "metadata": {},
   "source": [
    "<b><font color=red> Vous définirez ci-dessous votre propre caractéristique en modifiant la cellule suivante :</font></b>"
   ]
  },
  {
   "cell_type": "code",
   "execution_count": null,
   "metadata": {
    "ExecuteTime": {
     "end_time": "2023-04-13T15:23:17.026624Z",
     "start_time": "2023-04-13T15:23:17.022855Z"
    }
   },
   "outputs": [],
   "source": [
    "# Une fonction qui calcule et renvoi la caractéristique de l'image x\n",
    "\n",
    "def caracteristique(x):\n",
    "    \n",
    "    ...\n",
    "    \n",
    "    c = ...\n",
    "    \n",
    "    return c"
   ]
  },
  {
   "cell_type": "markdown",
   "metadata": {},
   "source": [
    "## I.2 Classification des images à partir de la caractéristique "
   ]
  },
  {
   "cell_type": "markdown",
   "metadata": {},
   "source": [
    "**Algorithme de classification :**\n",
    "* On choisit un seuil noté `s`\n",
    "* On compare la caractéristique de l'image à `s` et on renvoi l'entier $0$ ou $1$ : "
   ]
  },
  {
   "cell_type": "markdown",
   "metadata": {},
   "source": [
    "**Choix du seuil**\n",
    "Afficher les valeurs de caractéristiques pour des images de `x_train_2` :"
   ]
  },
  {
   "cell_type": "code",
   "execution_count": 3,
   "metadata": {
    "ExecuteTime": {
     "end_time": "2023-05-10T12:46:41.316485Z",
     "start_time": "2023-05-10T12:46:41.087296Z"
    }
   },
   "outputs": [
    {
     "data": {
      "image/png": "[encoded data removed]",
      "text/plain": [
       "<Figure size 720x72 with 10 Axes>"
      ]
     },
     "metadata": {},
     "output_type": "display_data"
    },
    {
     "name": "stdout",
     "output_type": "stream",
     "text": [
      "Image 1 : c(x) = 15.150510204081632,   y = 1\n",
      "\n",
      "Image 2 : c(x) = 18.14030612244898,   y = 1\n",
      "\n",
      "Image 3 : c(x) = 18.107142857142858,   y = 1\n",
      "\n",
      "Image 4 : c(x) = 45.609693877551024,   y = 0\n",
      "\n",
      "Image 5 : c(x) = 16.70408163265306,   y = 1\n",
      "\n",
      "Image 6 : c(x) = 63.22831632653061,   y = 0\n",
      "\n",
      "Image 7 : c(x) = 16.519132653061224,   y = 1\n",
      "\n",
      "Image 8 : c(x) = 24.088010204081634,   y = 1\n",
      "\n",
      "Image 9 : c(x) = 46.49234693877551,   y = 0\n",
      "\n",
      "Image 10 : c(x) = 19.54719387755102,   y = 1\n",
      "\n"
     ]
    }
   ],
   "source": [
    "affichage_dix(x_train_2)\n",
    "\n",
    "for i in range(10):\n",
    "    c = caracteristique(x_train_2[i])\n",
    "    y = y_train_2[i]\n",
    "    print('Image ' +str(i+1)+' : c(x) = '+str(c)+',   y = '+str(y)+'\\n')"
   ]
  },
  {
   "cell_type": "markdown",
   "metadata": {},
   "source": [
    "<b><font color=red> D'après ces obervations, choisissez un seuil `s` :</font></b>"
   ]
  },
  {
   "cell_type": "code",
   "execution_count": 4,
   "metadata": {
    "ExecuteTime": {
     "end_time": "2023-05-10T12:46:43.284407Z",
     "start_time": "2023-05-10T12:46:43.279270Z"
    }
   },
   "outputs": [],
   "source": [
    "# Seuil à compléter :\n",
    "\n",
    "s = 40\n",
    "\n",
    "\n",
    "# Algorithme de classification :\n",
    "def classification(x):\n",
    "    c = caracteristique(x)\n",
    "    if c > s:\n",
    "        return 0\n",
    "    else:\n",
    "        return 1"
   ]
  },
  {
   "cell_type": "markdown",
   "metadata": {},
   "source": [
    "## I.3 Erreur d'entraînement"
   ]
  },
  {
   "cell_type": "markdown",
   "metadata": {},
   "source": [
    "On applique cette fonction à toute la liste des images de `x_train_2` et on stoke les résultats dans la liste `y_est_train`:"
   ]
  },
  {
   "cell_type": "markdown",
   "metadata": {},
   "source": [
    "<b><font color=red> Exécuter les cellules de code jusqu'à la cellule suivante pour affiche votre score :</font></b>"
   ]
  },
  {
   "cell_type": "code",
   "execution_count": 5,
   "metadata": {
    "ExecuteTime": {
     "end_time": "2023-05-10T12:46:49.602208Z",
     "start_time": "2023-05-10T12:46:47.141999Z"
    }
   },
   "outputs": [
    {
     "name": "stdout",
     "output_type": "stream",
     "text": [
      "Mon score (taux d'erreur): 17.070667193051715 %\n"
     ]
    }
   ],
   "source": [
    "# On commence par définir des listes (vide au début)\n",
    "y_est_train = []\n",
    "y_est_test = []\n",
    "\n",
    "# On les remplit à l'aide de boucles :\n",
    "for x in x_train_2:\n",
    "    y_est_train.append(classification(x))\n",
    "\n",
    "for x in x_test_2:\n",
    "    y_est_test.append(classification(x))\n",
    "    \n",
    "print('Mon score (taux d\\'erreur): '+str(100*score(y_est_train, y_train_2))+' %')"
   ]
  },
  {
   "cell_type": "markdown",
   "metadata": {},
   "source": [
    "Qu'en pensez-vous ? Essayer de mofifier votre fonction caractéristique pour faire encore mieux ! "
   ]
  },
  {
   "cell_type": "markdown",
   "metadata": {},
   "source": [
    "## I.4 Soumission sur la plateforme pour obtenir votre erreur sur l'ensemble test\n"
   ]
  },
  {
   "cell_type": "markdown",
   "metadata": {},
   "source": [
    "<b><font color=red>Exécuter la cellule suivante : </font></b> "
   ]
  },
  {
   "cell_type": "code",
   "execution_count": null,
   "metadata": {},
   "outputs": [],
   "source": [
    "# Sauvez et téléchargez vos estimations y_est_test, en entrant le nom du fichier que vous souhaitez\n",
    "sauver_et_telecharger_mnist_2(y_est_test, 'y_est_test_mnist2.csv')"
   ]
  },
  {
   "cell_type": "markdown",
   "metadata": {},
   "source": [
    "<b><font color=red>Soumettez ce fichier .csv sur la plateforme Challenge Data</font></b> afin d'obtenir votre erreur de test en cliquant sur **[ce lien](https://challengedata.ens.fr/participants/challenges/116/submit)** (n'oubliez pas au préalable d'être bien connecté).\n",
    "\n",
    "Quelle est votre erreur de test ?"
   ]
  },
  {
   "cell_type": "markdown",
   "metadata": {},
   "source": [
    "<br><br><br><br><br>\n",
    "\n",
    "\n",
    "\n",
    "***\n",
    "<h3 style=\"text-align: center;\">Fin de la partie 1 du Notebook</h3>\n",
    "\n",
    "***\n",
    "\n",
    "\n",
    "\n",
    "<br><br><br><br><br>"
   ]
  },
  {
   "cell_type": "markdown",
   "metadata": {},
   "source": [
    "# II. Challenge MNIST-4 : classifier les chiffres 0, 1, 4, 8"
   ]
  },
  {
   "cell_type": "markdown",
   "metadata": {},
   "source": [
    "La base de données MNIST-4 contient des images de 0, de 1, de 4 et de 8 de taille $28 \\times 28$. \n",
    "\n",
    "* Images d'entraînement : liste `x_train_4`.\n",
    "* Images de test : liste `x_test_4`. \n",
    "\n",
    "\n",
    "\n",
    "* Chiffres $y \\in \\{0,1, 4, 8\\}$ associés aux images de `x_train_4` : `y_train_4`"
   ]
  },
  {
   "cell_type": "markdown",
   "metadata": {},
   "source": [
    "## II.1 Visualisation d'images d'entraînement "
   ]
  },
  {
   "cell_type": "markdown",
   "metadata": {},
   "source": [
    "* `x_train_par_population[0]` est une liste contenant toutes les images de 0.\n",
    "* `x_train_par_population[1]` est une liste contenant toutes les images de 1.\n",
    "* `x_train_par_population[2]` est une liste contenant toutes les images de 4.\n",
    "* `x_train_par_population[3]` est une liste contenant toutes les images de 8."
   ]
  },
  {
   "cell_type": "code",
   "execution_count": null,
   "metadata": {
    "ExecuteTime": {
     "end_time": "2023-03-28T09:11:32.818257Z",
     "start_time": "2023-03-28T09:11:32.813627Z"
    }
   },
   "outputs": [],
   "source": [
    "# Dans cette cellule, afficher la huitième image au sein de la population de chiffres 4\n"
   ]
  },
  {
   "cell_type": "markdown",
   "metadata": {},
   "source": [
    "Exécutez la cellule ci-dessous afin d'afficher les dix premières images au sein de chaque population."
   ]
  },
  {
   "cell_type": "code",
   "execution_count": null,
   "metadata": {
    "ExecuteTime": {
     "end_time": "2023-05-10T12:40:57.833322Z",
     "start_time": "2023-05-10T12:40:57.142245Z"
    },
    "scrolled": false
   },
   "outputs": [],
   "source": [
    "# Affichage des dix premières images de 0\n",
    "affichage_dix(x_train_par_population[0])\n",
    "\n",
    "# Affichage des dix premières images de 1\n",
    "affichage_dix(x_train_par_population[1])\n",
    "\n",
    "# Affichage des dix premières images de 4\n",
    "affichage_dix(x_train_par_population[2])\n",
    "\n",
    "# Affichage des dix premières images de 8\n",
    "affichage_dix(x_train_par_population[3])"
   ]
  },
  {
   "cell_type": "markdown",
   "metadata": {},
   "source": [
    "<br><br><br>\n",
    "\n",
    "***\n",
    "***\n",
    "\n",
    "<br><br><br>"
   ]
  },
  {
   "cell_type": "markdown",
   "metadata": {},
   "source": [
    "## II.2 Trouver deux caractéristiques discriminantes au lieu d'une seule"
   ]
  },
  {
   "cell_type": "markdown",
   "metadata": {},
   "source": [
    "**Benchmark :** Proposition de deux caractéristiques utilisées comme référence "
   ]
  },
  {
   "cell_type": "code",
   "execution_count": 6,
   "metadata": {
    "ExecuteTime": {
     "end_time": "2023-05-10T12:46:55.422838Z",
     "start_time": "2023-05-10T12:46:55.412945Z"
    }
   },
   "outputs": [],
   "source": [
    "# Fonction proposée, utilisée comme référence\n",
    "\n",
    "def deux_caracteristiques(x):\n",
    "    # Initialisation des deux caractéristiques à 0 : somme[0] représentant la valeur moyenne des pixels sur \n",
    "    # la moitié supérieure de l'image, et somme[1] sur la moitié inférieure\n",
    "    somme = [0, 0] \n",
    "    for i in range(14):  # on ne parcourt que les lignes de la moitié supérieure\n",
    "        for j in range(28): \n",
    "            somme[0] = somme[0] + x[i,j]   # rajout de la valeur du pixel (i,j) à la somme\n",
    "            somme[1] = somme[1] + x[i+14,j]  # décalage de 14 pour parcourir les lignes de la moitié inférieure\n",
    "    # Normalisation\n",
    "    somme[0] = somme[0] / (14*28)\n",
    "    somme[1] = somme[1] / (14*28)\n",
    "    return somme"
   ]
  },
  {
   "cell_type": "markdown",
   "metadata": {},
   "source": [
    "<b><font color=red> Vous définirez ci-dessous vos deux propres caractéristiques en modifiant la cellule suivante</font></b>."
   ]
  },
  {
   "cell_type": "code",
   "execution_count": null,
   "metadata": {
    "ExecuteTime": {
     "end_time": "2023-03-30T15:02:36.975175Z",
     "start_time": "2023-03-30T15:02:36.970025Z"
    }
   },
   "outputs": [],
   "source": [
    "def deux_caracteristiques(x):\n",
    "    \n",
    "    c1 = ...\n",
    "    c2 = ...\n",
    "    \n",
    "    return [c1, c2] # Renvoit deux caractéristiques sous la forme d'une liste à deux éléments [c1, c2]"
   ]
  },
  {
   "cell_type": "markdown",
   "metadata": {},
   "source": [
    "On calcule ces deux caractéristiques sur toutes les images de `x_train_4`, et on stocke les résultats dans une liste `c_train`. \n",
    "\n",
    "Exécutez la cellule suivante qui calcule la liste `c_train`."
   ]
  },
  {
   "cell_type": "code",
   "execution_count": 7,
   "metadata": {
    "ExecuteTime": {
     "end_time": "2023-05-10T12:47:02.259952Z",
     "start_time": "2023-05-10T12:46:57.629968Z"
    },
    "scrolled": false
   },
   "outputs": [],
   "source": [
    "# On commence par définir et initialiser la liste c_train (vide au début)\n",
    "c_train = []\n",
    "\n",
    "# On la remplit à l'aide d'une boucle for :\n",
    "for x in x_train_4:\n",
    "    c_train.append(deux_caracteristiques(x))"
   ]
  },
  {
   "cell_type": "markdown",
   "metadata": {},
   "source": [
    "### Visualisation dans le plan des caractéristiques des différentes populations"
   ]
  },
  {
   "cell_type": "code",
   "execution_count": 8,
   "metadata": {
    "ExecuteTime": {
     "end_time": "2023-05-10T12:47:03.949013Z",
     "start_time": "2023-05-10T12:47:03.739322Z"
    },
    "scrolled": false
   },
   "outputs": [
    {
     "data": {
      "image/png": "[encoded data removed]",
      "text/plain": [
       "<Figure size 720x720 with 1 Axes>"
      ]
     },
     "metadata": {
      "needs_background": "light"
     },
     "output_type": "display_data"
    }
   ],
   "source": [
    "visualiser_histogrammes_2d_mnist_4(c_train)"
   ]
  },
  {
   "cell_type": "markdown",
   "metadata": {},
   "source": [
    "<br><br><br>\n",
    "\n",
    "***\n",
    "***\n",
    "\n",
    "<br><br><br>"
   ]
  },
  {
   "cell_type": "markdown",
   "metadata": {},
   "source": [
    "## II.3 Calcul de l'erreur (et donc du score)"
   ]
  },
  {
   "cell_type": "markdown",
   "metadata": {},
   "source": [
    "### Erreur sur l'ensemble d'entraînement"
   ]
  },
  {
   "cell_type": "markdown",
   "metadata": {},
   "source": [
    "Exécutez la cellule suivante afin de calculer le taux d'erreur de notre algorithme sur toute les images d'entraînement, à l'aide de la fonction `score()` précédemment définie."
   ]
  },
  {
   "cell_type": "code",
   "execution_count": 10,
   "metadata": {
    "ExecuteTime": {
     "end_time": "2023-05-10T12:47:13.226592Z",
     "start_time": "2023-05-10T12:47:13.050971Z"
    }
   },
   "outputs": [
    {
     "name": "stdout",
     "output_type": "stream",
     "text": [
      "Score = 43.07%\n"
     ]
    }
   ],
   "source": [
    "c_train_par_population = par_population(c_train)\n",
    "\n",
    "# Paramètre theta = [theta_0, theta_1, ...]\n",
    "theta = [np.mean(c_train_par_population[i], axis = 0) for i in range(4)]\n",
    "\n",
    "# On commence par définir et initialiser la liste y_est_train (vide au début)\n",
    "y_est_train = []\n",
    "\n",
    "# On remplit y_est_train à l'aide d'une boucle :\n",
    "for c in c_train:\n",
    "    y_est_train.append(classification_2d_MNIST4(c, theta))\n",
    "    \n",
    "# Affichage du score\n",
    "print(\"Score =\", f\"{100*score(y_est_train, y_train_4):.2f}%\")"
   ]
  },
  {
   "cell_type": "markdown",
   "metadata": {},
   "source": [
    "<b><font color=red> Qu'en concluez-vous ? </font></b>"
   ]
  },
  {
   "cell_type": "markdown",
   "metadata": {},
   "source": [
    "## II.4 Soumission sur la plateforme pour obtenir votre erreur sur l'ensemble test\n"
   ]
  },
  {
   "cell_type": "markdown",
   "metadata": {},
   "source": [
    "<b><font color=red>Exécuter la cellule suivante : </font></b> "
   ]
  },
  {
   "cell_type": "code",
   "execution_count": 11,
   "metadata": {
    "ExecuteTime": {
     "end_time": "2023-05-10T12:48:59.510808Z",
     "start_time": "2023-05-10T12:48:59.392328Z"
    }
   },
   "outputs": [
    {
     "ename": "NameError",
     "evalue": "name 'basthon' is not defined",
     "output_type": "error",
     "traceback": [
      "\u001b[0;31m---------------------------------------------------------------------------\u001b[0m",
      "\u001b[0;31mNameError\u001b[0m                                 Traceback (most recent call last)",
      "\u001b[0;32m<ipython-input-11-a5ff328e074c>\u001b[0m in \u001b[0;36m<module>\u001b[0;34m\u001b[0m\n\u001b[1;32m      1\u001b[0m \u001b[0;31m# Sauvez et téléchargez vos estimations y_est_test, en entrant le nom du fichier que vous souhaitez\u001b[0m\u001b[0;34m\u001b[0m\u001b[0;34m\u001b[0m\u001b[0;34m\u001b[0m\u001b[0m\n\u001b[0;32m----> 2\u001b[0;31m \u001b[0msauver_et_telecharger_mnist_2\u001b[0m\u001b[0;34m(\u001b[0m\u001b[0my_est_test\u001b[0m\u001b[0;34m,\u001b[0m \u001b[0;34m'y_est_test_mnist2.csv'\u001b[0m\u001b[0;34m)\u001b[0m\u001b[0;34m\u001b[0m\u001b[0;34m\u001b[0m\u001b[0m\n\u001b[0m",
      "\u001b[0;32m~/Google Drive/Challenge Data/Challenges - Équipe/MNIST/utilitaires_chargement_.py\u001b[0m in \u001b[0;36msauver_et_telecharger_mnist_2\u001b[0;34m(y_est_test, nom_du_fichier)\u001b[0m\n\u001b[1;32m    115\u001b[0m \u001b[0;32mdef\u001b[0m \u001b[0msauver_et_telecharger_mnist_2\u001b[0m\u001b[0;34m(\u001b[0m\u001b[0my_est_test\u001b[0m\u001b[0;34m,\u001b[0m \u001b[0mnom_du_fichier\u001b[0m\u001b[0;34m)\u001b[0m\u001b[0;34m:\u001b[0m\u001b[0;34m\u001b[0m\u001b[0;34m\u001b[0m\u001b[0m\n\u001b[1;32m    116\u001b[0m     \u001b[0mnp\u001b[0m\u001b[0;34m.\u001b[0m\u001b[0msavetxt\u001b[0m\u001b[0;34m(\u001b[0m\u001b[0mnom_du_fichier\u001b[0m\u001b[0;34m,\u001b[0m \u001b[0mnp\u001b[0m\u001b[0;34m.\u001b[0m\u001b[0mstack\u001b[0m\u001b[0;34m(\u001b[0m\u001b[0;34m[\u001b[0m\u001b[0mID_test_2\u001b[0m\u001b[0;34m,\u001b[0m \u001b[0my_est_test\u001b[0m\u001b[0;34m]\u001b[0m\u001b[0;34m,\u001b[0m \u001b[0maxis\u001b[0m\u001b[0;34m=\u001b[0m\u001b[0;34m-\u001b[0m\u001b[0;36m1\u001b[0m\u001b[0;34m)\u001b[0m\u001b[0;34m,\u001b[0m \u001b[0mfmt\u001b[0m\u001b[0;34m=\u001b[0m\u001b[0;34m'%d'\u001b[0m\u001b[0;34m,\u001b[0m \u001b[0mdelimiter\u001b[0m\u001b[0;34m=\u001b[0m\u001b[0;34m','\u001b[0m\u001b[0;34m,\u001b[0m \u001b[0mheader\u001b[0m\u001b[0;34m=\u001b[0m\u001b[0;34m'ID,targets'\u001b[0m\u001b[0;34m)\u001b[0m\u001b[0;34m\u001b[0m\u001b[0;34m\u001b[0m\u001b[0m\n\u001b[0;32m--> 117\u001b[0;31m     \u001b[0mbasthon\u001b[0m\u001b[0;34m.\u001b[0m\u001b[0mdownload\u001b[0m\u001b[0;34m(\u001b[0m\u001b[0mnom_du_fichier\u001b[0m\u001b[0;34m)\u001b[0m\u001b[0;34m\u001b[0m\u001b[0;34m\u001b[0m\u001b[0m\n\u001b[0m\u001b[1;32m    118\u001b[0m \u001b[0;34m\u001b[0m\u001b[0m\n\u001b[1;32m    119\u001b[0m \u001b[0;32mdef\u001b[0m \u001b[0msauver_et_telecharger_mnist_4\u001b[0m\u001b[0;34m(\u001b[0m\u001b[0my_est_test\u001b[0m\u001b[0;34m,\u001b[0m \u001b[0mnom_du_fichier\u001b[0m\u001b[0;34m)\u001b[0m\u001b[0;34m:\u001b[0m\u001b[0;34m\u001b[0m\u001b[0;34m\u001b[0m\u001b[0m\n",
      "\u001b[0;31mNameError\u001b[0m: name 'basthon' is not defined"
     ]
    }
   ],
   "source": [
    "# Sauvez et téléchargez vos estimations y_est_test, en entrant le nom du fichier que vous souhaitez\n",
    "sauver_et_telecharger_mnist_4(y_est_test, 'y_est_test_mnist4.csv')"
   ]
  },
  {
   "cell_type": "markdown",
   "metadata": {},
   "source": [
    "<b><font color=red>Soumettez ce fichier .csv sur la plateforme Challenge Data</font></b> afin d'obtenir votre erreur de test en cliquant sur **[ce lien](https://challengedata.ens.fr/participants/challenges/117/submit)** (n'oubliez pas au préalable d'être bien connecté).\n",
    "\n",
    "Quelle est votre erreur de test ?"
   ]
  },
  {
   "cell_type": "markdown",
   "metadata": {},
   "source": [
    "<br><br><br><br><br>\n",
    "\n",
    "\n",
    "\n",
    "***\n",
    "<h3 style=\"text-align: center;\">Fin du Notebook</h3>\n",
    "\n",
    "***\n",
    "\n",
    "\n",
    "\n",
    "<br><br><br><br><br>"
   ]
  }
 ],
 "metadata": {
  "kernelspec": {
   "display_name": "Python 3",
   "language": "python",
   "name": "python3"
  },
  "language_info": {
   "codemirror_mode": {
    "name": "ipython",
    "version": 3
   },
   "file_extension": ".py",
   "mimetype": "text/x-python",
   "name": "python",
   "nbconvert_exporter": "python",
   "pygments_lexer": "ipython3",
   "version": "3.8.8"
  }
 },
 "nbformat": 4,
 "nbformat_minor": 2
}
