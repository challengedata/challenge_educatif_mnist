{
 "cells": [
  {
   "cell_type": "markdown",
   "metadata": {},
   "source": [
    "# Challenge Data MNIST : séance 1"
   ]
  },
  {
   "cell_type": "markdown",
   "metadata": {},
   "source": [
    "# I Introduction"
   ]
  },
  {
   "cell_type": "markdown",
   "metadata": {},
   "source": [
    "On commence par importer les données dont nous aurons besoin."
   ]
  },
  {
   "cell_type": "code",
   "execution_count": 1,
   "metadata": {
    "ExecuteTime": {
     "end_time": "2023-04-14T13:03:15.177364Z",
     "start_time": "2023-04-14T13:03:11.336833Z"
    }
   },
   "outputs": [],
   "source": [
    "from utilitaires_chargement_ import *"
   ]
  },
  {
   "cell_type": "markdown",
   "metadata": {},
   "source": [
    "## I.1 Rappels Python"
   ]
  },
  {
   "cell_type": "markdown",
   "metadata": {},
   "source": [
    "### Le type list\n",
    "\n",
    "On définit une liste à l'aide de crochets (rajoutez des print après chaque définition)  : "
   ]
  },
  {
   "cell_type": "code",
   "execution_count": null,
   "metadata": {
    "ExecuteTime": {
     "end_time": "2023-04-13T15:09:17.034495Z",
     "start_time": "2023-04-13T15:09:17.030750Z"
    }
   },
   "outputs": [],
   "source": [
    "# liste vide :\n",
    "liste_vide = []\n",
    "# une liste peut contenir des nombres :\n",
    "liste = [1, 5.4, -3]"
   ]
  },
  {
   "cell_type": "markdown",
   "metadata": {},
   "source": [
    "On accède à l'élément $i$ d'une liste en faisant \n",
    "`ma_liste[i]`."
   ]
  },
  {
   "cell_type": "markdown",
   "metadata": {
    "ExecuteTime": {
     "end_time": "2023-04-13T15:03:55.459584Z",
     "start_time": "2023-04-13T15:03:55.449099Z"
    }
   },
   "source": [
    "<div class=\"alert alert-block alert-warning\">\n",
    "<b>⚠️ Attention  :</b> En Python les indices sont comptés à partir de 0, le premier élément d'une liste est donc liste[0].\n",
    "</div>"
   ]
  },
  {
   "cell_type": "markdown",
   "metadata": {},
   "source": [
    "Avec la fonction `print(...)`, afficher le premier élément de la liste `liste`` :"
   ]
  },
  {
   "cell_type": "code",
   "execution_count": null,
   "metadata": {
    "ExecuteTime": {
     "end_time": "2023-04-13T15:08:23.377883Z",
     "start_time": "2023-04-13T15:08:23.374239Z"
    }
   },
   "outputs": [],
   "source": [
    "# Afficher le premier élément de la liste\n",
    "..."
   ]
  },
  {
   "cell_type": "markdown",
   "metadata": {},
   "source": [
    "Pour ajouter des éléments à une liste, on peut utiliser la méthode `append` :"
   ]
  },
  {
   "cell_type": "code",
   "execution_count": null,
   "metadata": {
    "ExecuteTime": {
     "end_time": "2023-04-13T15:09:19.492372Z",
     "start_time": "2023-04-13T15:09:19.486890Z"
    }
   },
   "outputs": [],
   "source": [
    "# Ajouter \"8\" à la liste\n",
    "liste.append(8)"
   ]
  },
  {
   "cell_type": "markdown",
   "metadata": {},
   "source": [
    "### Boucle for\n",
    "\n",
    "On rappelle la syntaxe d'une boucle for en Python :\n",
    "\n",
    "```python\n",
    "for element in sequence:\n",
    "    instructions\n",
    "```\n",
    "    \n",
    "Par exemple, pour calculer la somme des entiers de 1 à $n$ on écrit :\n",
    "```python\n",
    "somme = 0\n",
    "for i in range(n+1): # range(N) correspond à la séquence d'entiers 1, ..., N-1\n",
    "    somme = somme + i\n",
    "```"
   ]
  },
  {
   "cell_type": "code",
   "execution_count": null,
   "metadata": {},
   "outputs": [],
   "source": [
    "# Essais libres :"
   ]
  },
  {
   "cell_type": "markdown",
   "metadata": {},
   "source": [
    "\n",
    "### Fonction\n",
    "\n",
    "On rappelle également la syntaxe d'une fonction qui renvoie un certain résultat à partir de paramètres :\n",
    "```python\n",
    "def ma_fonction(liste de paramètres):\n",
    "    instructions\n",
    "    return resultat\n",
    "```\n",
    "\n",
    "Ainsi, pour définir une fonction qui retourne la valeur des entiers de 1 à $n$ on écrit :\n",
    "```python\n",
    "def somme(n):\n",
    "    compteur = 0\n",
    "    for i in range(n+1):\n",
    "        compteur = compteur + i\n",
    "    return compteur\n",
    "```\n",
    "\n",
    "Calculez la valeur des entiers de 1 à $n$ pour différents $n$ à l'aide de cette fonction et vérifiez qu'ils correspondent bien à la valeur $n(n+1)/2$. On rappelle qu'on affiche des données en Python avec la fonction `print`."
   ]
  },
  {
   "cell_type": "code",
   "execution_count": null,
   "metadata": {},
   "outputs": [],
   "source": [
    "def somme(n):\n",
    "    compteur = 0\n",
    "    for i in range(n+1): # range(N) correspond à la séquence d'entiers 1, ..., N-1\n",
    "        compteur = compteur + i\n",
    "    return compteur\n",
    "\n",
    "# n = ....\n",
    "# Affichage de la valeur de la somme\n",
    "print(somme(n))"
   ]
  },
  {
   "cell_type": "markdown",
   "metadata": {},
   "source": [
    "## I.2 Image numérique"
   ]
  },
  {
   "cell_type": "markdown",
   "metadata": {},
   "source": [
    "Une image en niveaux de gris se représente numériquement comme un tableau bidimensionnel de $H \\times L$ pixels. La valeur de chaque pixel est un entier compris entre 0 et 255. Commençons par manipuler une image de taille $28 \\times 28$ stockée dans la variable `x` que nous avons importée. Elle représente le chiffre 0 et fait partie des bases de données sur lesquelles nous travaillerons.\n",
    "\n",
    "Nous avons créé une fonction `affichage`, vous pouvez directement l'appliquer à la variable `x` :"
   ]
  },
  {
   "cell_type": "code",
   "execution_count": null,
   "metadata": {},
   "outputs": [],
   "source": [
    "# Affichez l'image x :\n"
   ]
  },
  {
   "cell_type": "markdown",
   "metadata": {},
   "source": [
    "### Accéder à un pixel particulier\n",
    "\n",
    "On accède à la valeur du pixel $(i,j)$ à la $i+1$-ème ligne et $j+1$-ème par la commande `x[i,j]`. Par exemple, pour accéder à la valeur du pixel central (14,14) on écrit simplement `x[14,14]`. On peut ensuite afficher cette valeur avec `print`."
   ]
  },
  {
   "cell_type": "code",
   "execution_count": null,
   "metadata": {},
   "outputs": [],
   "source": [
    "# Vérifiez que pour notre image x, le pixel central est de valeur 0 et apparaît donc noir\n"
   ]
  },
  {
   "cell_type": "markdown",
   "metadata": {},
   "source": [
    "### Accéder à une « tranche » de pixels \n",
    "\n",
    "* `x[a:b,c:d]` extrait les pixels appartenant aux lignes `a` à `b-1` (inclus) et colonnes `c` à `d-1` (inclus). \n",
    "* `x[a:b,c:d]` est un tableau de taille $(b-a) \\times (d-c)$. \n",
    "* Pour récupérer tous les pixels de `x` appartenant aux colonnes `c` à `d-1`, on utilise `x[:,c:d]`; et `x[a:b,:]` pour tous les pixels appartenant aux lignes `a` à `b-1`.\n",
    "\n",
    "<b><font color=red> Écrire une ligne de code pour afficher uniquement les colonnes 11 à 23 de l'image $x$ :</font></b>"
   ]
  },
  {
   "cell_type": "code",
   "execution_count": null,
   "metadata": {},
   "outputs": [],
   "source": [
    "# Visualisez les colonnes 11 à 23 de l'image x :\n"
   ]
  },
  {
   "cell_type": "code",
   "execution_count": null,
   "metadata": {
    "scrolled": true
   },
   "outputs": [],
   "source": [
    "# Affichez directement la valeur des pixels des colonnes 11 à 23 de l'image x :\n"
   ]
  },
  {
   "cell_type": "markdown",
   "metadata": {},
   "source": [
    "On peut afficher la taille d'une image à l'aide de l'attribut `shape`:"
   ]
  },
  {
   "cell_type": "code",
   "execution_count": null,
   "metadata": {},
   "outputs": [],
   "source": [
    "# Affichage de la taille de l'image :\n",
    "print(x.shape)"
   ]
  },
  {
   "cell_type": "code",
   "execution_count": null,
   "metadata": {},
   "outputs": [],
   "source": [
    "# Affichez la taille de l'image extraite précédente :\n"
   ]
  },
  {
   "cell_type": "markdown",
   "metadata": {},
   "source": [
    "# II Challenge MNIST-2 : classifier les chiffres 0 et 1"
   ]
  },
  {
   "cell_type": "code",
   "execution_count": null,
   "metadata": {
    "ExecuteTime": {
     "end_time": "2023-04-13T15:17:43.537050Z",
     "start_time": "2023-04-13T15:17:43.433223Z"
    }
   },
   "outputs": [],
   "source": [
    "# Affichez la première image de `x_train_2` :\n",
    "affichage(x_train_2[0])\n",
    "\n",
    "# Affichez la deuxième image de `x_train_2` :\n",
    "...\n",
    "\n",
    "# Affichez la troisième image de `x_train_2` :\n",
    "...\n"
   ]
  },
  {
   "cell_type": "markdown",
   "metadata": {},
   "source": [
    "Pour visualiser les 10 premières images, utiliser la fonction `affichage_dix` :"
   ]
  },
  {
   "cell_type": "code",
   "execution_count": null,
   "metadata": {
    "ExecuteTime": {
     "end_time": "2023-04-13T15:18:55.399400Z",
     "start_time": "2023-04-13T15:18:55.194564Z"
    }
   },
   "outputs": [],
   "source": [
    "# Affiche les 10 premières images de x_train_2 :\n",
    "affichage_dix(x_train_2)"
   ]
  },
  {
   "cell_type": "markdown",
   "metadata": {},
   "source": [
    "## II.1 Caractéristique discriminante d’une image "
   ]
  },
  {
   "cell_type": "markdown",
   "metadata": {},
   "source": [
    "**Benchmark :** Proposition d'un caractéristiques utilisée comme référence "
   ]
  },
  {
   "cell_type": "code",
   "execution_count": null,
   "metadata": {
    "ExecuteTime": {
     "end_time": "2023-04-13T15:56:49.664649Z",
     "start_time": "2023-04-13T15:56:49.659568Z"
    }
   },
   "outputs": [],
   "source": [
    "# Une fonction qui calcule et renvoi la caractéristique de l'image x\n",
    "\n",
    "def caracteristique(x):\n",
    "    # On calcule la somme de tous les pixels\n",
    "    somme = 0\n",
    "    for i in range(28):\n",
    "        for j in range(28):\n",
    "            somme = somme + x[i,j]\n",
    "    \n",
    "    # On divise par le nombre de pixels pour avoir une moyenne :\n",
    "    c = somme/(28*28)\n",
    "    return c"
   ]
  },
  {
   "cell_type": "markdown",
   "metadata": {},
   "source": [
    "<b><font color=red> Vous définirez ci-dessous votre propre caractéristique en modifiant la cellule suivante :</font></b>"
   ]
  },
  {
   "cell_type": "code",
   "execution_count": null,
   "metadata": {
    "ExecuteTime": {
     "end_time": "2023-04-13T15:23:17.026624Z",
     "start_time": "2023-04-13T15:23:17.022855Z"
    }
   },
   "outputs": [],
   "source": [
    "# Une fonction qui calcule et renvoi la caractéristique de l'image x\n",
    "\n",
    "def caracteristique(x):\n",
    "    \n",
    "    ...\n",
    "    \n",
    "    c = ...\n",
    "    \n",
    "    return c"
   ]
  },
  {
   "cell_type": "markdown",
   "metadata": {},
   "source": [
    "## II.2 Classification des images à partir de la caractéristique "
   ]
  },
  {
   "cell_type": "markdown",
   "metadata": {},
   "source": [
    "**Algorithme de classification :**\n",
    "* On choisit un seuil noté `s`\n",
    "* On compare la caractéristique de l'image à `s` et on renvoi l'entier $0$ ou $1$ : "
   ]
  },
  {
   "cell_type": "markdown",
   "metadata": {},
   "source": [
    "**Choix du seuil**\n",
    "Afficher les valeurs de caractéristiques pour des images de `x_train_2` :"
   ]
  },
  {
   "cell_type": "code",
   "execution_count": null,
   "metadata": {
    "ExecuteTime": {
     "end_time": "2023-04-13T15:58:08.314056Z",
     "start_time": "2023-04-13T15:58:08.112794Z"
    }
   },
   "outputs": [],
   "source": [
    "affichage_dix(x_train_2)\n",
    "\n",
    "for i in range(10):\n",
    "    c = caracteristique(x_train_2[i])\n",
    "    y = y_train_2[i]\n",
    "    print('Image ' +str(i+1)+' : c(x) = '+str(c)+',   y = '+str(y)+'\\n')"
   ]
  },
  {
   "cell_type": "code",
   "execution_count": null,
   "metadata": {
    "ExecuteTime": {
     "end_time": "2023-04-13T15:57:48.089445Z",
     "start_time": "2023-04-13T15:57:48.087046Z"
    }
   },
   "outputs": [],
   "source": [
    "# Expérimentation libres pour trouver un bon seuil :\n",
    "\n"
   ]
  },
  {
   "cell_type": "markdown",
   "metadata": {},
   "source": [
    "<b><font color=red> D'après ces obervations, choisissez un seuil `s` :</font></b>"
   ]
  },
  {
   "cell_type": "code",
   "execution_count": null,
   "metadata": {
    "ExecuteTime": {
     "end_time": "2023-04-13T16:01:24.083063Z",
     "start_time": "2023-04-13T16:01:24.078882Z"
    }
   },
   "outputs": [],
   "source": [
    "# Seuil à compléter :\n",
    "\n",
    "s = ...\n",
    "\n",
    "\n",
    "# Algorithme de classification :\n",
    "def classification(x):\n",
    "    c = caracteristique(x)\n",
    "    if c > s:\n",
    "        return 0\n",
    "    else:\n",
    "        return 1"
   ]
  },
  {
   "cell_type": "markdown",
   "metadata": {},
   "source": [
    "On applique cette fonction à toute la liste des images de `x_train_2` et on stoke les résultats dans la liste `y_est_train`:"
   ]
  },
  {
   "cell_type": "code",
   "execution_count": null,
   "metadata": {
    "ExecuteTime": {
     "end_time": "2023-04-13T16:03:42.848944Z",
     "start_time": "2023-04-13T16:03:40.387987Z"
    }
   },
   "outputs": [],
   "source": [
    "# On commence par définir des listes (vide au début)\n",
    "y_est_train = []\n",
    "y_est_test = []\n",
    "\n",
    "# On les remplit à l'aide de boucles :\n",
    "for x in x_train_2:\n",
    "    y_est_train.append(classification(x))\n",
    "\n",
    "for x in x_test_2:\n",
    "    y_est_test.append(classification(x))"
   ]
  },
  {
   "cell_type": "markdown",
   "metadata": {},
   "source": [
    "## II.3 Erreur d'entraînement"
   ]
  },
  {
   "cell_type": "markdown",
   "metadata": {},
   "source": [
    "La fonction de score est égale au pourcentage d’erreur des estimations de votre algorithme par rapport aux vrais chiffres. Le score est calculé par la fonction `score` :"
   ]
  },
  {
   "cell_type": "code",
   "execution_count": null,
   "metadata": {
    "ExecuteTime": {
     "end_time": "2023-04-13T16:08:36.319489Z",
     "start_time": "2023-04-13T16:08:36.313520Z"
    }
   },
   "outputs": [],
   "source": [
    "def score(y_estime, y_vrai):\n",
    "    somme = 0\n",
    "    # On lance une erreur si y_est et y_vrai ne sont pas de la même taille\n",
    "    if len(y_estime)!=len(y_vrai) :\n",
    "        raise ValueError(\"Les sorties comparées ne sont pas de la même taille.\")\n",
    "    else :   # on incrémente la somme pour toute mauvaise estimation\n",
    "        for i in range(len(y_vrai)):\n",
    "            if y_estime[i] != y_vrai[i]:\n",
    "                somme = somme + 1\n",
    "    return 100*somme / len(y_vrai)"
   ]
  },
  {
   "cell_type": "markdown",
   "metadata": {},
   "source": [
    "<b><font color=red> Exécuter les cellules de code jusqu'à la cellule suivante pour affiche votre score :</font></b>"
   ]
  },
  {
   "cell_type": "code",
   "execution_count": null,
   "metadata": {
    "ExecuteTime": {
     "end_time": "2023-04-13T16:09:05.801624Z",
     "start_time": "2023-04-13T16:09:05.784947Z"
    },
    "scrolled": true
   },
   "outputs": [],
   "source": [
    "print('Mon score : '+str(score(y_est_train, y_train_2))+' %')"
   ]
  },
  {
   "cell_type": "markdown",
   "metadata": {},
   "source": [
    "Qu'en pensez-vous ? Essayer de mofifier votre fonction caractéristique pour faire encore mieux ! "
   ]
  },
  {
   "cell_type": "markdown",
   "metadata": {},
   "source": [
    "## II.4 Soumission sur la plateforme pour obtenir votre erreur sur l'ensemble test\n"
   ]
  },
  {
   "cell_type": "markdown",
   "metadata": {},
   "source": [
    "<b><font color=red>Exécuter la cellule suivante : </font></b> "
   ]
  },
  {
   "cell_type": "code",
   "execution_count": null,
   "metadata": {},
   "outputs": [],
   "source": [
    "# Sauvez et téléchargez vos estimations y_est_test, en entrant le nom du fichier que vous souhaitez\n",
    "sauver_et_telecharger_mnist_2(y_est_test, 'y_est_test_mnist2.csv')"
   ]
  },
  {
   "cell_type": "markdown",
   "metadata": {},
   "source": [
    "<b><font color=red>Soumettez ce fichier .csv sur la plateforme Challenge Data</font></b> afin d'obtenir votre erreur de test en cliquant sur **[ce lien](https://challengedata.ens.fr/participants/challenges/116/)** (n'oubliez pas au préalable d'être bien connecté).\n",
    "\n",
    "Quelle est votre erreur de test ?"
   ]
  }
 ],
 "metadata": {
  "kernelspec": {
   "display_name": "Python 3",
   "language": "python",
   "name": "python3"
  },
  "language_info": {
   "codemirror_mode": {
    "name": "ipython",
    "version": 3
   },
   "file_extension": ".py",
   "mimetype": "text/x-python",
   "name": "python",
   "nbconvert_exporter": "python",
   "pygments_lexer": "ipython3",
   "version": "3.8.8"
  }
 },
 "nbformat": 4,
 "nbformat_minor": 2
}
