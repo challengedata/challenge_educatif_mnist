{
 "cells": [
  {
   "cell_type": "markdown",
   "metadata": {},
   "source": [
    "# Challenge Data MNIST : séance 2"
   ]
  },
  {
   "cell_type": "markdown",
   "metadata": {},
   "source": [
    "## Notebook Python"
   ]
  },
  {
   "cell_type": "code",
   "execution_count": null,
   "metadata": {
    "ExecuteTime": {
     "end_time": "2023-03-30T14:59:43.427090Z",
     "start_time": "2023-03-30T14:59:37.339014Z"
    },
    "scrolled": false
   },
   "outputs": [],
   "source": [
    "# Importation des données \n",
    "from utilitaires_chargement_ import *"
   ]
  },
  {
   "cell_type": "markdown",
   "metadata": {},
   "source": [
    "## Rappel sur les image numérique en Python"
   ]
  },
  {
   "cell_type": "markdown",
   "metadata": {},
   "source": [
    "Affichons une image `x` de taille $28 \\times 28$ que nous avons importée, grâce à la fonction `affichage`"
   ]
  },
  {
   "cell_type": "code",
   "execution_count": null,
   "metadata": {
    "scrolled": false
   },
   "outputs": [],
   "source": [
    "# Dans cette cellule, afficher l'image x\n"
   ]
  },
  {
   "cell_type": "markdown",
   "metadata": {},
   "source": [
    "* Pour accèder à la valeur d'un pixel $(i,j)$ de $x$ :  `x[i,j]`.\n",
    "* Afficher une valeur :  fonction `print()`"
   ]
  },
  {
   "cell_type": "code",
   "execution_count": null,
   "metadata": {
    "ExecuteTime": {
     "end_time": "2023-03-29T09:50:29.766695Z",
     "start_time": "2023-03-29T09:50:29.759061Z"
    },
    "scrolled": false
   },
   "outputs": [],
   "source": [
    "# Dans cette cellule, afficher le pixel (14, 14) de l'image x\n"
   ]
  },
  {
   "cell_type": "markdown",
   "metadata": {},
   "source": [
    "<br><br><br>\n",
    "\n",
    "***\n",
    "***\n",
    "\n",
    "<br><br><br>"
   ]
  },
  {
   "cell_type": "markdown",
   "metadata": {},
   "source": [
    "# Challenge MNIST-4 : classifier les chiffres 0, 1, 4, 8"
   ]
  },
  {
   "cell_type": "markdown",
   "metadata": {},
   "source": [
    "La base de données MNIST-4 contient des images de 0, de 1, de 4 et de 8 de taille $28 \\times 28$. \n",
    "\n",
    "* Images d'entraînement : liste `x_train_4`.\n",
    "* Images de test : liste `x_test_4`. \n",
    "\n",
    "\n",
    "\n",
    "* Chiffres $y \\in \\{0,1, 4, 8\\}$ associés aux images de `x_train_4` : `y_train_4`"
   ]
  },
  {
   "cell_type": "markdown",
   "metadata": {},
   "source": [
    "## 1.Visualisation d'images d'entraînement "
   ]
  },
  {
   "cell_type": "markdown",
   "metadata": {},
   "source": [
    "* `x_train_par_population[0]` est une liste contenant toutes les images de 0.\n",
    "* `x_train_par_population[1]` est une liste contenant toutes les images de 1.\n",
    "* `x_train_par_population[2]` est une liste contenant toutes les images de 4.\n",
    "* `x_train_par_population[3]` est une liste contenant toutes les images de 8."
   ]
  },
  {
   "cell_type": "code",
   "execution_count": null,
   "metadata": {
    "ExecuteTime": {
     "end_time": "2023-03-28T09:11:32.818257Z",
     "start_time": "2023-03-28T09:11:32.813627Z"
    }
   },
   "outputs": [],
   "source": [
    "# Dans cette cellule, afficher la huitième image au sein de la population de chiffres 4\n"
   ]
  },
  {
   "cell_type": "markdown",
   "metadata": {},
   "source": [
    "Exécutez la cellule ci-dessous afin d'afficher les dix premières images au sein de chaque population."
   ]
  },
  {
   "cell_type": "code",
   "execution_count": null,
   "metadata": {
    "ExecuteTime": {
     "end_time": "2023-03-28T09:02:06.655450Z",
     "start_time": "2023-03-28T09:02:05.978495Z"
    },
    "scrolled": false
   },
   "outputs": [],
   "source": [
    "# Affichage des dix premières images de 0\n",
    "affichage_dix(x_train_par_population[0])\n",
    "\n",
    "# Affichage des dix premières images de 1\n",
    "affichage_dix(x_train_par_population[1])\n",
    "\n",
    "# Affichage des dix premières images de 4\n",
    "affichage_dix(x_train_par_population[2])\n",
    "\n",
    "# Affichage des dix premières images de 8\n",
    "affichage_dix(x_train_par_population[3])"
   ]
  },
  {
   "cell_type": "markdown",
   "metadata": {},
   "source": [
    "<br><br><br>\n",
    "\n",
    "***\n",
    "***\n",
    "\n",
    "<br><br><br>"
   ]
  },
  {
   "cell_type": "markdown",
   "metadata": {},
   "source": [
    "## 2. Trouver deux caractéristiques discriminantes au lieu d'une seule"
   ]
  },
  {
   "cell_type": "markdown",
   "metadata": {},
   "source": [
    "**Benchmark :** Proposition de deux caractéristiques utilisées comme référence "
   ]
  },
  {
   "cell_type": "code",
   "execution_count": null,
   "metadata": {
    "ExecuteTime": {
     "end_time": "2023-03-30T14:59:53.081077Z",
     "start_time": "2023-03-30T14:59:53.074268Z"
    }
   },
   "outputs": [],
   "source": [
    "# Fonction proposée, utilisée comme référence\n",
    "\n",
    "def deux_caracteristiques(x):\n",
    "    # Initialisation des deux caractéristiques à 0 : somme[0] représentant la valeur moyenne des pixels sur \n",
    "    # la moitié supérieure de l'image, et somme[1] sur la moitié inférieure\n",
    "    somme = [0, 0] \n",
    "    for i in range(14):  # on ne parcourt que les lignes de la moitié supérieure\n",
    "        for j in range(28): \n",
    "            somme[0] = somme[0] + x[i,j]   # rajout de la valeur du pixel (i,j) à la somme\n",
    "            somme[1] = somme[1] + x[i+14,j]  # décalage de 14 pour parcourir les lignes de la moitié inférieure\n",
    "    # Normalisation\n",
    "    somme[0] = somme[0] / (14*28)\n",
    "    somme[1] = somme[1] / (14*28)\n",
    "    return somme"
   ]
  },
  {
   "cell_type": "markdown",
   "metadata": {},
   "source": [
    "<b><font color=red> Vous définirez ci-dessous vos deux propres caractéristiques en modifiant la cellule suivante</font></b>."
   ]
  },
  {
   "cell_type": "code",
   "execution_count": null,
   "metadata": {
    "ExecuteTime": {
     "end_time": "2023-03-30T15:02:36.975175Z",
     "start_time": "2023-03-30T15:02:36.970025Z"
    }
   },
   "outputs": [],
   "source": [
    "def deux_caracteristiques(x):\n",
    "    \n",
    "    c1 = ...\n",
    "    c2 = ...\n",
    "    \n",
    "    return [c1, c2] # Renvoit deux caractéristiques sous la forme d'une liste à deux éléments [c1, c2]"
   ]
  },
  {
   "cell_type": "markdown",
   "metadata": {},
   "source": [
    "On calcule ces deux caractéristiques sur toutes les images de `x_train_4`, et on stocke les résultats dans une liste `c_train`. \n",
    "\n",
    "Exécutez la cellule suivante qui calcule la liste `c_train`."
   ]
  },
  {
   "cell_type": "code",
   "execution_count": null,
   "metadata": {
    "ExecuteTime": {
     "end_time": "2023-03-30T15:01:47.054594Z",
     "start_time": "2023-03-30T15:01:46.735045Z"
    },
    "scrolled": false
   },
   "outputs": [],
   "source": [
    "# On commence par définir et initialiser la liste c_train (vide au début)\n",
    "c_train = []\n",
    "\n",
    "# On la remplit à l'aide d'une boucle for :\n",
    "for x in x_train_4:\n",
    "    c_train.append(deux_caracteristiques(x))"
   ]
  },
  {
   "cell_type": "markdown",
   "metadata": {},
   "source": [
    "### Visualisation dans le plan des caractéristiques des différentes populations"
   ]
  },
  {
   "cell_type": "code",
   "execution_count": null,
   "metadata": {
    "ExecuteTime": {
     "end_time": "2023-04-06T15:38:30.405444Z",
     "start_time": "2023-04-06T15:38:30.158787Z"
    },
    "scrolled": false
   },
   "outputs": [],
   "source": [
    "visualiser_histogrammes_2d_mnist_4(c_train)"
   ]
  },
  {
   "cell_type": "markdown",
   "metadata": {},
   "source": [
    "<br><br><br>\n",
    "\n",
    "***\n",
    "***\n",
    "\n",
    "<br><br><br>"
   ]
  },
  {
   "cell_type": "markdown",
   "metadata": {},
   "source": [
    "## 3. Calcul de l'erreur (et donc du score)"
   ]
  },
  {
   "cell_type": "markdown",
   "metadata": {},
   "source": [
    "### Erreur sur l'ensemble d'entraînement"
   ]
  },
  {
   "cell_type": "markdown",
   "metadata": {},
   "source": [
    "On donne la fonction `classification_2d_MNIST4(c, theta)` qui prend en entrée la caractéristique $c(x)$ d'une image et les paramètres `theta` (liste des paramètres), et qui donne la classe de $x$."
   ]
  },
  {
   "cell_type": "code",
   "execution_count": null,
   "metadata": {
    "ExecuteTime": {
     "end_time": "2023-04-13T16:22:28.070260Z",
     "start_time": "2023-04-13T16:22:27.976962Z"
    }
   },
   "outputs": [],
   "source": [
    "c_train_par_population = par_population(c_train)\n",
    "\n",
    "# Paramètre theta = [theta_0, theta_1, ...]\n",
    "theta = [np.mean(c_train_par_population[i], axis = 0) for i in range(4)]\n",
    "\n",
    "# On commence par définir et initialiser la liste y_est_train (vide au début)\n",
    "y_est_train = []\n",
    "\n",
    "# On remplit y_est_train à l'aide d'une boucle :\n",
    "for c in c_train:\n",
    "    y_est_train.append(classification_2d_MNIST4(c, theta))"
   ]
  },
  {
   "cell_type": "markdown",
   "metadata": {},
   "source": [
    "Exécutez la cellule suivante afin de calculer le taux d'erreur de notre algorithme sur toute les images d'entraînement, à l'aide de la fonction `score()` précédemment définie."
   ]
  },
  {
   "cell_type": "code",
   "execution_count": null,
   "metadata": {
    "ExecuteTime": {
     "end_time": "2023-03-30T15:02:14.632031Z",
     "start_time": "2023-03-30T15:02:14.608081Z"
    },
    "scrolled": false
   },
   "outputs": [],
   "source": [
    "# Affichage du score\n",
    "print(\"Score =\", f\"{100*score(y_est_train, y_train_4):.2f}%\")"
   ]
  },
  {
   "cell_type": "markdown",
   "metadata": {},
   "source": [
    "<b><font color=red> Qu'en concluez-vous ? </font></b>"
   ]
  },
  {
   "cell_type": "markdown",
   "metadata": {},
   "source": [
    "<br><br><br>\n",
    "\n",
    "***\n",
    "***\n",
    "\n",
    "<br><br><br>"
   ]
  },
  {
   "cell_type": "markdown",
   "metadata": {},
   "source": [
    "### Erreur sur l'ensemble de test"
   ]
  },
  {
   "cell_type": "markdown",
   "metadata": {},
   "source": [
    "On applique maintenant l'algorithme de classification précédent aux images de test `x_test_4`. On commence comme pour les images d'entraînement par calculer leurs caractéristiques et les stocker dans une liste `c_test`. \n",
    "\n",
    "<b><font color=red> Exécutez la cellule suivante :  </font></b> "
   ]
  },
  {
   "cell_type": "code",
   "execution_count": null,
   "metadata": {
    "ExecuteTime": {
     "end_time": "2023-03-28T09:09:56.894849Z",
     "start_time": "2023-03-28T09:09:56.058425Z"
    },
    "scrolled": false
   },
   "outputs": [],
   "source": [
    "# On commence par définir et initialiser la liste c_test (vide au début)\n",
    "c_test = []\n",
    "\n",
    "# On la remplit à l'aide d'une boucle for :\n",
    "for x in x_test_4:\n",
    "    c_test.append(deux_caracteristiques(x))\n",
    "    \n",
    "y_est_test = []\n",
    "\n",
    "# On remplit y_est_test à l'aide de notre algorithme de classification :\n",
    "for c in c_test:\n",
    "    y_est_test.append(classification_2d_MNIST4(c, theta))\n",
    "\n",
    "# Sauve et télécharge les estimations `y_est_test` : \n",
    "sauver_et_telecharger_mnist_4(y_est_test, 'y_est_test.csv')"
   ]
  },
  {
   "cell_type": "markdown",
   "metadata": {},
   "source": [
    "<b><font color=red>Soumettez ce fichier .csv sur la plateforme Challenge Data</font></b> afin d'obtenir votre erreur de test en cliquant sur **[ce lien](https://challengedata.ens.fr/participants/challenges/117/)** (n'oubliez pas au préalable d'être bien connecté).\n",
    "\n",
    "Quelle est votre erreur de test ?"
   ]
  },
  {
   "cell_type": "code",
   "execution_count": null,
   "metadata": {},
   "outputs": [],
   "source": []
  }
 ],
 "metadata": {
  "kernelspec": {
   "display_name": "Python 3",
   "language": "python",
   "name": "python3"
  },
  "language_info": {
   "codemirror_mode": {
    "name": "ipython",
    "version": 3
   },
   "file_extension": ".py",
   "mimetype": "text/x-python",
   "name": "python",
   "nbconvert_exporter": "python",
   "pygments_lexer": "ipython3",
   "version": "3.8.8"
  }
 },
 "nbformat": 4,
 "nbformat_minor": 2
}
